{
 "cells": [
  {
   "cell_type": "markdown",
   "id": "35443aaa-8bea-4b8e-b270-7ebd4d771523",
   "metadata": {},
   "source": [
    "# Identify Shopping trend using data analysis"
   ]
  },
  {
   "cell_type": "markdown",
   "id": "b3ac7323-166d-455f-a4c2-7242950a57d6",
   "metadata": {},
   "source": [
    "# Imporitng the required librraries"
   ]
  },
  {
   "cell_type": "code",
   "execution_count": null,
   "id": "22cebcb5-11f8-4f25-8c18-5efc47567cf4",
   "metadata": {},
   "outputs": [],
   "source": [
    "import pandas as pd\n",
    "import numpy as np\n",
    "import seaborn as sns\n",
    "import matplotlib.pyplot as plt\n",
    "import scipy\n",
    "from scipy.stats import zscore\n",
    "from wordcloud import WordCloud\n",
    "import warnings\n",
    "warnings.filterwarnings"
   ]
  }
 ],
 "metadata": {
  "kernelspec": {
   "display_name": "Python 3 (ipykernel)",
   "language": "python",
   "name": "python3"
  },
  "language_info": {
   "codemirror_mode": {
    "name": "ipython",
    "version": 3
   },
   "file_extension": ".py",
   "mimetype": "text/x-python",
   "name": "python",
   "nbconvert_exporter": "python",
   "pygments_lexer": "ipython3",
   "version": "3.12.4"
  }
 },
 "nbformat": 4,
 "nbformat_minor": 5
}
